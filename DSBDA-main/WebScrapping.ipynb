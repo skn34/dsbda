{
 "cells": [
  {
   "cell_type": "code",
   "execution_count": 6,
   "id": "be53e8fb-6af0-4e9f-9c46-92e07166e2cd",
   "metadata": {},
   "outputs": [
    {
     "name": "stdout",
     "output_type": "stream",
     "text": [
      "👤 Customer Name: Meesho User\n",
      "⭐ Rating: 5\n",
      "💬 Review: Khub valo legeche saree ta Amar onak choice thanks messo\n",
      "🏷️ Tag: Not available in static HTML\n",
      "------------------------------------------------------------\n",
      "👤 Customer Name: Meesho User\n",
      "⭐ Rating: 5\n",
      "💬 Review: Wowww so beautiful saree. jaisa dikhaya hai vesi hi saree aayi hai thanku so much meesho 😍😍😍😍\n",
      "🏷️ Tag: Not available in static HTML\n",
      "------------------------------------------------------------\n"
     ]
    }
   ],
   "source": [
    "# Required Libraries Import Karna\n",
    "import requests  # Web se data fetch karne ke liye\n",
    "from bs4 import BeautifulSoup  # HTML ko parse karne ke liye\n",
    "import json  # JSON format ko handle karne ke liye\n",
    "\n",
    "# Step 1: Website URL ko request bhejna\n",
    "url = 'https://www.meesho.com/heavy-silver-embroidery-work-with-full-silver-stone-work-beautifull-saree/p/5dk1it'\n",
    "response = requests.get(url)  # Request bhejte hain aur response lete hain\n",
    "soup = BeautifulSoup(response.content, 'html.parser')  # Response ko HTML parse karte hain\n",
    "\n",
    "# Step 2: <script> tags ko find karna jo JSON data contain karte hain\n",
    "scripts = soup.find_all('script', type='application/ld+json')  # LD+JSON format mein script tags dhund rahe hain\n",
    "\n",
    "# Step 3: Har script tag ko loop karna aur review data ko extract karna\n",
    "for script in scripts:\n",
    "    try:\n",
    "        # JSON data ko parse karte hain\n",
    "        data = json.loads(script.string)  \n",
    "        \n",
    "        # Agar review data hai to usse process karna\n",
    "        if \"review\" in data:\n",
    "            for review in data[\"review\"]:  # Har review ko loop karte hain\n",
    "                # Review details ko extract karna aur print karna\n",
    "                print(f\"👤 Customer Name: {review['author']['name']}\")  # Customer ka naam print karna\n",
    "                print(f\"⭐ Rating: {review['reviewRating']['ratingValue']}\")  # Rating print karna\n",
    "                print(f\"💬 Review: {review['reviewBody']}\")  # Review body print karna\n",
    "                print(\"🏷️ Tag: Not available in static HTML\")  # Tag ka data static HTML mein nahi milta\n",
    "                print(\"-\" * 60)  # Review ke beech mein separation line print karna\n",
    "    except Exception as e:\n",
    "        # Agar koi error aaye to usse ignore karke next script pe move karna\n",
    "        continue\n",
    "\n"
   ]
  },
  {
   "cell_type": "code",
   "execution_count": 4,
   "id": "5c29c837-9e6a-4d2e-9118-869df1cce23a",
   "metadata": {},
   "outputs": [
    {
     "name": "stdout",
     "output_type": "stream",
     "text": [
      "Overall Rating :  3.9\n"
     ]
    }
   ],
   "source": [
    "rating_tag = soup.find('h1', {'class': 'sc-eDvSVe cdZTwf'})\n",
    "print(\"Overall Rating : \",rating_tag.get_text())"
   ]
  },
  {
   "cell_type": "code",
   "execution_count": null,
   "id": "7e50b551-1f01-4579-99ac-5968d2d9bae5",
   "metadata": {},
   "outputs": [],
   "source": []
  },
  {
   "cell_type": "code",
   "execution_count": null,
   "id": "2f850056-0ca9-480d-a4db-830b45e8a393",
   "metadata": {},
   "outputs": [],
   "source": []
  }
 ],
 "metadata": {
  "kernelspec": {
   "display_name": "Python 3 (ipykernel)",
   "language": "python",
   "name": "python3"
  },
  "language_info": {
   "codemirror_mode": {
    "name": "ipython",
    "version": 3
   },
   "file_extension": ".py",
   "mimetype": "text/x-python",
   "name": "python",
   "nbconvert_exporter": "python",
   "pygments_lexer": "ipython3",
   "version": "3.12.4"
  }
 },
 "nbformat": 4,
 "nbformat_minor": 5
}
